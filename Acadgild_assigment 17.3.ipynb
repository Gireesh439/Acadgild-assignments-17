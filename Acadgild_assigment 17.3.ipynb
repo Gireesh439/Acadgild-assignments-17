{
 "cells": [
  {
   "cell_type": "code",
   "execution_count": 1,
   "metadata": {},
   "outputs": [
    {
     "ename": "SyntaxError",
     "evalue": "invalid character in identifier (<ipython-input-1-2f14c53a2915>, line 4)",
     "output_type": "error",
     "traceback": [
      "\u001b[1;36m  File \u001b[1;32m\"<ipython-input-1-2f14c53a2915>\"\u001b[1;36m, line \u001b[1;32m4\u001b[0m\n\u001b[1;33m    N=R+B\u001b[0m\n\u001b[1;37m    ^\u001b[0m\n\u001b[1;31mSyntaxError\u001b[0m\u001b[1;31m:\u001b[0m invalid character in identifier\n"
     ]
    }
   ],
   "source": [
    "possible_combination =[\"RR\",\"RB\",\"BB\",\"BR\"]\n",
    "Data = pd.DataFrame(possible_combination,columns={\"Events\"})\n",
    "def Probablity(event,R,B):\n",
    "    N=R+B\n",
    "    p1=[0,0]\n",
    "    for i in range(len(event)):\n",
    "        if event[i]=='R':\n",
    "            p1[i]=(R/N)\n",
    "            R=R-1\n",
    "            N=N-1\n",
    "        if event[i]=='B':\n",
    "           p1[i]=(B/N)\n",
    "           B=B-1\n",
    "           N=N-1\n",
    "    return p1[0]*p1[1]\n",
    "Pro =[]\n",
    "for E in possible_combination:\n",
    "    Pro.append(Probablity(E,4,6))\n",
    "Data['Probablity'] = Pro \n",
    "Data.head()"
   ]
  },
  {
   "cell_type": "code",
   "execution_count": null,
   "metadata": {},
   "outputs": [],
   "source": []
  }
 ],
 "metadata": {
  "kernelspec": {
   "display_name": "Python 3",
   "language": "python",
   "name": "python3"
  },
  "language_info": {
   "codemirror_mode": {
    "name": "ipython",
    "version": 3
   },
   "file_extension": ".py",
   "mimetype": "text/x-python",
   "name": "python",
   "nbconvert_exporter": "python",
   "pygments_lexer": "ipython3",
   "version": "3.6.5"
  }
 },
 "nbformat": 4,
 "nbformat_minor": 2
}
